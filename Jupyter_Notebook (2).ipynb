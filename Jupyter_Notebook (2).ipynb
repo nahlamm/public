{
 "cells": [
  {
   "cell_type": "markdown",
   "metadata": {},
   "source": [
    "<center>\n",
    "    <img src=\"https://s3-api.us-geo.objectstorage.softlayer.net/cf-courses-data/CognitiveClass/Logos/organization_logo/organization_logo.png\" width=\"300\" alt=\"cognitiveclass.ai logo\"  />\n",
    "</center>\n"
   ]
  },
  {
   "cell_type": "markdown",
   "metadata": {},
   "source": [
    "#### Add your code below following the instructions given in the course\n",
    "\n",
    "# My Jupyter Notebook on IBM Watson Studio"
   ]
  },
  {
   "cell_type": "markdown",
   "metadata": {},
   "source": [
    "**Nahla Mahgoub**          \n",
    "Data Scientist "
   ]
  },
  {
   "cell_type": "markdown",
   "metadata": {},
   "source": [
    "*I am interested in Data Science because it opens a whole new world of possibilities for me. With Data Science tools, I am able to see beyond the present and can tab into the future, make better decisions and explore whole new opportunities in business*"
   ]
  },
  {
   "cell_type": "markdown",
   "metadata": {},
   "source": [
    "### My code is supposed to make the simple operation of adding two numbers."
   ]
  },
  {
   "cell_type": "code",
   "execution_count": 5,
   "metadata": {},
   "outputs": [
    {
     "name": "stdout",
     "output_type": "stream",
     "text": [
      "53\n"
     ]
    }
   ],
   "source": [
    "x = 24\n",
    "y = 29\n",
    "print (x+y)"
   ]
  },
  {
   "cell_type": "markdown",
   "metadata": {},
   "source": [
    "My numbered list:\n",
    "1. Hello\n",
    "2. World\n",
    "3. This is me\n",
    "\n",
    "---\n",
    "\n",
    "* My bulleted list\n",
    "* My bulleted list\n",
    "\n",
    "---\n",
    "\n",
    "\n",
    "(https://www.google.com)\n",
    "\n",
    "---\n",
    "\n",
    "~~SCRATCH THIS PLEASE~~\n",
    "\n",
    "---\n",
    "\n",
    "My `code` has `blocks` in it.\n",
    "\n",
    "---\n",
    "\n",
    "| Column1       | Column2       |Column3|\n",
    "| ------------- |:-------------:| -----:|\n",
    "| Cell          | Cell          | Cell  |\n",
    "| Cell          | Cell          | Cell  |\n",
    "| Cell          | Cell          | Cell  |\n",
    "\n",
    "---\n",
    "\n"
   ]
  }
 ],
 "metadata": {
  "kernelspec": {
   "display_name": "Python",
   "language": "python",
   "name": "conda-env-python-py"
  },
  "language_info": {
   "codemirror_mode": {
    "name": "ipython",
    "version": 3
   },
   "file_extension": ".py",
   "mimetype": "text/x-python",
   "name": "python",
   "nbconvert_exporter": "python",
   "pygments_lexer": "ipython3",
   "version": "3.7.12"
  }
 },
 "nbformat": 4,
 "nbformat_minor": 4
}
